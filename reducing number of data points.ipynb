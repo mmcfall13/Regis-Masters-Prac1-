{
 "cells": [
  {
   "cell_type": "code",
   "execution_count": 1,
   "metadata": {},
   "outputs": [],
   "source": [
    "import pandas as pd, numpy as np, matplotlib.pyplot as plt, time\n",
    "from sklearn.cluster import DBSCAN\n",
    "from sklearn import metrics\n",
    "from geopy.distance import great_circle\n",
    "from shapely.geometry import MultiPoint\n",
    "%matplotlib inline"
   ]
  },
  {
   "cell_type": "code",
   "execution_count": 2,
   "metadata": {},
   "outputs": [],
   "source": [
    "df = pd.read_csv('C:/workfiles/denver-crime-data/crime.csv')"
   ]
  },
  {
   "cell_type": "code",
   "execution_count": 3,
   "metadata": {},
   "outputs": [],
   "source": [
    "# define the number of kilometers in one radian\n",
    "kms_per_radian = 6371.0088"
   ]
  },
  {
   "cell_type": "code",
   "execution_count": 4,
   "metadata": {},
   "outputs": [
    {
     "data": {
      "text/html": [
       "<div>\n",
       "<style scoped>\n",
       "    .dataframe tbody tr th:only-of-type {\n",
       "        vertical-align: middle;\n",
       "    }\n",
       "\n",
       "    .dataframe tbody tr th {\n",
       "        vertical-align: top;\n",
       "    }\n",
       "\n",
       "    .dataframe thead th {\n",
       "        text-align: right;\n",
       "    }\n",
       "</style>\n",
       "<table border=\"1\" class=\"dataframe\">\n",
       "  <thead>\n",
       "    <tr style=\"text-align: right;\">\n",
       "      <th></th>\n",
       "      <th>OFFENSE_CATEGORY_ID</th>\n",
       "      <th>GEO_LON</th>\n",
       "      <th>GEO_LAT</th>\n",
       "      <th>DISTRICT_ID</th>\n",
       "      <th>PRECINCT_ID</th>\n",
       "    </tr>\n",
       "  </thead>\n",
       "  <tbody>\n",
       "    <tr>\n",
       "      <th>0</th>\n",
       "      <td>all-other-crimes</td>\n",
       "      <td>-104.809881</td>\n",
       "      <td>39.773188</td>\n",
       "      <td>5</td>\n",
       "      <td>521</td>\n",
       "    </tr>\n",
       "    <tr>\n",
       "      <th>1</th>\n",
       "      <td>larceny</td>\n",
       "      <td>-104.781434</td>\n",
       "      <td>39.785649</td>\n",
       "      <td>5</td>\n",
       "      <td>522</td>\n",
       "    </tr>\n",
       "    <tr>\n",
       "      <th>2</th>\n",
       "      <td>theft-from-motor-vehicle</td>\n",
       "      <td>-104.957381</td>\n",
       "      <td>39.663490</td>\n",
       "      <td>3</td>\n",
       "      <td>314</td>\n",
       "    </tr>\n",
       "    <tr>\n",
       "      <th>3</th>\n",
       "      <td>larceny</td>\n",
       "      <td>-104.941440</td>\n",
       "      <td>39.702698</td>\n",
       "      <td>3</td>\n",
       "      <td>312</td>\n",
       "    </tr>\n",
       "    <tr>\n",
       "      <th>4</th>\n",
       "      <td>larceny</td>\n",
       "      <td>-104.955370</td>\n",
       "      <td>39.717107</td>\n",
       "      <td>3</td>\n",
       "      <td>311</td>\n",
       "    </tr>\n",
       "  </tbody>\n",
       "</table>\n",
       "</div>"
      ],
      "text/plain": [
       "        OFFENSE_CATEGORY_ID     GEO_LON    GEO_LAT  DISTRICT_ID  PRECINCT_ID\n",
       "0          all-other-crimes -104.809881  39.773188            5          521\n",
       "1                   larceny -104.781434  39.785649            5          522\n",
       "2  theft-from-motor-vehicle -104.957381  39.663490            3          314\n",
       "3                   larceny -104.941440  39.702698            3          312\n",
       "4                   larceny -104.955370  39.717107            3          311"
      ]
     },
     "execution_count": 4,
     "metadata": {},
     "output_type": "execute_result"
    }
   ],
   "source": [
    "df1 = df.drop(['INCIDENT_ID', 'OFFENSE_ID', 'OFFENSE_CODE', 'OFFENSE_CODE_EXTENSION', 'INCIDENT_ADDRESS', \n",
    "               'IS_CRIME', 'IS_TRAFFIC','LAST_OCCURRENCE_DATE','NEIGHBORHOOD_ID','OFFENSE_TYPE_ID', 'GEO_X', 'GEO_Y', \n",
    "               'REPORTED_DATE', 'FIRST_OCCURRENCE_DATE'], axis= 1)\n",
    "df1.head()"
   ]
  },
  {
   "cell_type": "code",
   "execution_count": 5,
   "metadata": {},
   "outputs": [
    {
     "data": {
      "text/plain": [
       "OFFENSE_CATEGORY_ID    484260\n",
       "GEO_LON                484260\n",
       "GEO_LAT                484260\n",
       "DISTRICT_ID            484260\n",
       "PRECINCT_ID            484260\n",
       "dtype: int64"
      ]
     },
     "execution_count": 5,
     "metadata": {},
     "output_type": "execute_result"
    }
   ],
   "source": [
    "df1 = df1.dropna(axis=0, how='any')\n",
    "df1.count()"
   ]
  },
  {
   "cell_type": "code",
   "execution_count": 6,
   "metadata": {},
   "outputs": [
    {
     "name": "stderr",
     "output_type": "stream",
     "text": [
      "c:\\python\\python36-32\\lib\\site-packages\\ipykernel_launcher.py:1: UserWarning: Boolean Series key will be reindexed to match DataFrame index.\n",
      "  \"\"\"Entry point for launching an IPython kernel.\n"
     ]
    },
    {
     "data": {
      "text/plain": [
       "OFFENSE_CATEGORY_ID    395160\n",
       "GEO_LON                395160\n",
       "GEO_LAT                395160\n",
       "DISTRICT_ID            395160\n",
       "PRECINCT_ID            395160\n",
       "dtype: int64"
      ]
     },
     "execution_count": 6,
     "metadata": {},
     "output_type": "execute_result"
    }
   ],
   "source": [
    "df1 = df1[df.OFFENSE_CATEGORY_ID != 'all-other-crimes']\n",
    "df1.count()"
   ]
  },
  {
   "cell_type": "code",
   "execution_count": 7,
   "metadata": {},
   "outputs": [
    {
     "name": "stderr",
     "output_type": "stream",
     "text": [
      "c:\\python\\python36-32\\lib\\site-packages\\ipykernel_launcher.py:1: UserWarning: Boolean Series key will be reindexed to match DataFrame index.\n",
      "  \"\"\"Entry point for launching an IPython kernel.\n"
     ]
    },
    {
     "data": {
      "text/plain": [
       "OFFENSE_CATEGORY_ID    268034\n",
       "GEO_LON                268034\n",
       "GEO_LAT                268034\n",
       "DISTRICT_ID            268034\n",
       "PRECINCT_ID            268034\n",
       "dtype: int64"
      ]
     },
     "execution_count": 7,
     "metadata": {},
     "output_type": "execute_result"
    }
   ],
   "source": [
    "df1 = df1[df.OFFENSE_CATEGORY_ID != 'traffic-accident']\n",
    "df1.count()"
   ]
  },
  {
   "cell_type": "code",
   "execution_count": 8,
   "metadata": {},
   "outputs": [
    {
     "name": "stderr",
     "output_type": "stream",
     "text": [
      "c:\\python\\python36-32\\lib\\site-packages\\ipykernel_launcher.py:1: UserWarning: Boolean Series key will be reindexed to match DataFrame index.\n",
      "  \"\"\"Entry point for launching an IPython kernel.\n"
     ]
    },
    {
     "data": {
      "text/plain": [
       "OFFENSE_CATEGORY_ID    268033\n",
       "GEO_LON                268033\n",
       "GEO_LAT                268033\n",
       "DISTRICT_ID            268033\n",
       "PRECINCT_ID            268033\n",
       "dtype: int64"
      ]
     },
     "execution_count": 8,
     "metadata": {},
     "output_type": "execute_result"
    }
   ],
   "source": [
    "df1 = df1[df.OFFENSE_CATEGORY_ID != 'sexual-assault']\n",
    "df1.count()"
   ]
  },
  {
   "cell_type": "code",
   "execution_count": 9,
   "metadata": {},
   "outputs": [
    {
     "name": "stderr",
     "output_type": "stream",
     "text": [
      "c:\\python\\python36-32\\lib\\site-packages\\ipykernel_launcher.py:1: UserWarning: Boolean Series key will be reindexed to match DataFrame index.\n",
      "  \"\"\"Entry point for launching an IPython kernel.\n"
     ]
    },
    {
     "data": {
      "text/plain": [
       "OFFENSE_CATEGORY_ID    217094\n",
       "GEO_LON                217094\n",
       "GEO_LAT                217094\n",
       "DISTRICT_ID            217094\n",
       "PRECINCT_ID            217094\n",
       "dtype: int64"
      ]
     },
     "execution_count": 9,
     "metadata": {},
     "output_type": "execute_result"
    }
   ],
   "source": [
    "df1 = df1[df.OFFENSE_CATEGORY_ID != 'public-disorder']\n",
    "df1.count()"
   ]
  },
  {
   "cell_type": "code",
   "execution_count": 10,
   "metadata": {},
   "outputs": [
    {
     "name": "stderr",
     "output_type": "stream",
     "text": [
      "c:\\python\\python36-32\\lib\\site-packages\\ipykernel_launcher.py:1: UserWarning: Boolean Series key will be reindexed to match DataFrame index.\n",
      "  \"\"\"Entry point for launching an IPython kernel.\n"
     ]
    },
    {
     "data": {
      "text/plain": [
       "OFFENSE_CATEGORY_ID    167920\n",
       "GEO_LON                167920\n",
       "GEO_LAT                167920\n",
       "DISTRICT_ID            167920\n",
       "PRECINCT_ID            167920\n",
       "dtype: int64"
      ]
     },
     "execution_count": 10,
     "metadata": {},
     "output_type": "execute_result"
    }
   ],
   "source": [
    "df1 = df1[df.OFFENSE_CATEGORY_ID != 'larceny']\n",
    "df1.count()"
   ]
  },
  {
   "cell_type": "code",
   "execution_count": 11,
   "metadata": {},
   "outputs": [
    {
     "data": {
      "text/plain": [
       "OFFENSE_CATEGORY_ID    143982\n",
       "GEO_LON                143982\n",
       "GEO_LAT                143982\n",
       "DISTRICT_ID            143982\n",
       "PRECINCT_ID            143982\n",
       "dtype: int64"
      ]
     },
     "execution_count": 11,
     "metadata": {},
     "output_type": "execute_result"
    }
   ],
   "source": [
    "df1 = df1[df1.OFFENSE_CATEGORY_ID != 'other-crimes-against-persons']\n",
    "df1.count()"
   ]
  },
  {
   "cell_type": "code",
   "execution_count": 12,
   "metadata": {},
   "outputs": [
    {
     "data": {
      "text/plain": [
       "theft-from-motor-vehicle    36566\n",
       "drug-alcohol                32342\n",
       "auto-theft                  25900\n",
       "burglary                    24031\n",
       "aggravated-assault          11366\n",
       "white-collar-crime           6560\n",
       "robbery                      6316\n",
       "arson                         618\n",
       "murder                        283\n",
       "Name: OFFENSE_CATEGORY_ID, dtype: int64"
      ]
     },
     "execution_count": 12,
     "metadata": {},
     "output_type": "execute_result"
    }
   ],
   "source": [
    "df1['OFFENSE_CATEGORY_ID'].value_counts()"
   ]
  },
  {
   "cell_type": "code",
   "execution_count": 13,
   "metadata": {},
   "outputs": [
    {
     "data": {
      "text/plain": [
       "OFFENSE_CATEGORY_ID    12876\n",
       "GEO_LON                12876\n",
       "GEO_LAT                12876\n",
       "DISTRICT_ID            12876\n",
       "PRECINCT_ID            12876\n",
       "dtype: int64"
      ]
     },
     "execution_count": 13,
     "metadata": {},
     "output_type": "execute_result"
    }
   ],
   "source": [
    "df1 = df1.loc[df1['OFFENSE_CATEGORY_ID'].isin(['white-collar-crime','robbery'])]\n",
    "df1.count()"
   ]
  },
  {
   "cell_type": "code",
   "execution_count": 14,
   "metadata": {},
   "outputs": [
    {
     "name": "stderr",
     "output_type": "stream",
     "text": [
      "c:\\python\\python36-32\\lib\\site-packages\\ipykernel_launcher.py:2: FutureWarning: Method .as_matrix will be removed in a future version. Use .values instead.\n",
      "  \n"
     ]
    }
   ],
   "source": [
    "# represent points consistently as (lat, lon)\n",
    "coords = df1.as_matrix(columns=['GEO_LAT', 'GEO_LON'])\n",
    "\n",
    "# define epsilon as 1.5 kilometers, converted to radians for use by haversine\n",
    "epsilon = 1.5 / kms_per_radian"
   ]
  },
  {
   "cell_type": "code",
   "execution_count": 15,
   "metadata": {},
   "outputs": [
    {
     "name": "stdout",
     "output_type": "stream",
     "text": [
      "Clustered 12,876 points down to 3 clusters\n"
     ]
    }
   ],
   "source": [
    "#start_time = time.time()\n",
    "db = DBSCAN(eps=epsilon, min_samples=1, algorithm='ball_tree', metric='haversine').fit(np.radians(coords))\n",
    "cluster_labels = db.labels_\n",
    "\n",
    "# get the number of clusters\n",
    "num_clusters = len(set(cluster_labels))\n",
    "\n",
    "# all done, print the outcome\n",
    "message = 'Clustered {:,} points down to {:,} clusters'\n",
    "print(message.format(len(df1), num_clusters, 100*(1 - float(num_clusters) / len(df1))))\n",
    "#print('Silhouette coefficient: {:0.03f}'.format(metrics.silhouette_score(coords, cluster_labels)))"
   ]
  },
  {
   "cell_type": "code",
   "execution_count": 16,
   "metadata": {},
   "outputs": [],
   "source": [
    "# turn the clusters in to a pandas series, where each element is a cluster of points\n",
    "clusters = pd.Series([coords[cluster_labels==n] for n in range(num_clusters)])"
   ]
  },
  {
   "cell_type": "code",
   "execution_count": 17,
   "metadata": {},
   "outputs": [],
   "source": [
    "def get_centermost_point(cluster):\n",
    "    centroid = (MultiPoint(cluster).centroid.x, MultiPoint(cluster).centroid.y)\n",
    "    centermost_point = min(cluster, key=lambda point: great_circle(point, centroid).m)\n",
    "    return tuple(centermost_point)\n",
    "\n",
    "centermost_points = clusters.map(get_centermost_point)"
   ]
  },
  {
   "cell_type": "code",
   "execution_count": 18,
   "metadata": {},
   "outputs": [
    {
     "data": {
      "text/html": [
       "<div>\n",
       "<style scoped>\n",
       "    .dataframe tbody tr th:only-of-type {\n",
       "        vertical-align: middle;\n",
       "    }\n",
       "\n",
       "    .dataframe tbody tr th {\n",
       "        vertical-align: top;\n",
       "    }\n",
       "\n",
       "    .dataframe thead th {\n",
       "        text-align: right;\n",
       "    }\n",
       "</style>\n",
       "<table border=\"1\" class=\"dataframe\">\n",
       "  <thead>\n",
       "    <tr style=\"text-align: right;\">\n",
       "      <th></th>\n",
       "      <th>GEO_LON</th>\n",
       "      <th>GEO_LAT</th>\n",
       "    </tr>\n",
       "  </thead>\n",
       "  <tbody>\n",
       "    <tr>\n",
       "      <th>0</th>\n",
       "      <td>-104.960521</td>\n",
       "      <td>39.729589</td>\n",
       "    </tr>\n",
       "    <tr>\n",
       "      <th>1</th>\n",
       "      <td>-104.700902</td>\n",
       "      <td>39.836771</td>\n",
       "    </tr>\n",
       "    <tr>\n",
       "      <th>2</th>\n",
       "      <td>-0.000002</td>\n",
       "      <td>0.000001</td>\n",
       "    </tr>\n",
       "  </tbody>\n",
       "</table>\n",
       "</div>"
      ],
      "text/plain": [
       "      GEO_LON    GEO_LAT\n",
       "0 -104.960521  39.729589\n",
       "1 -104.700902  39.836771\n",
       "2   -0.000002   0.000001"
      ]
     },
     "execution_count": 18,
     "metadata": {},
     "output_type": "execute_result"
    }
   ],
   "source": [
    "# unzip the list of centermost points (lat, lon) tuples into separate lat and lon lists\n",
    "lats, lons = zip(*centermost_points)\n",
    "\n",
    "# from these lats/lons create a new df of one representative point for each cluster\n",
    "rep_points = pd.DataFrame({'GEO_LON':lons, 'GEO_LAT':lats})\n",
    "rep_points.tail()"
   ]
  },
  {
   "cell_type": "code",
   "execution_count": 19,
   "metadata": {},
   "outputs": [
    {
     "data": {
      "text/html": [
       "<div>\n",
       "<style scoped>\n",
       "    .dataframe tbody tr th:only-of-type {\n",
       "        vertical-align: middle;\n",
       "    }\n",
       "\n",
       "    .dataframe tbody tr th {\n",
       "        vertical-align: top;\n",
       "    }\n",
       "\n",
       "    .dataframe thead th {\n",
       "        text-align: right;\n",
       "    }\n",
       "</style>\n",
       "<table border=\"1\" class=\"dataframe\">\n",
       "  <thead>\n",
       "    <tr style=\"text-align: right;\">\n",
       "      <th></th>\n",
       "      <th>OFFENSE_CATEGORY_ID</th>\n",
       "      <th>GEO_LON</th>\n",
       "      <th>GEO_LAT</th>\n",
       "      <th>DISTRICT_ID</th>\n",
       "      <th>PRECINCT_ID</th>\n",
       "    </tr>\n",
       "  </thead>\n",
       "  <tbody>\n",
       "    <tr>\n",
       "      <th>0</th>\n",
       "      <td>white-collar-crime</td>\n",
       "      <td>-104.960521</td>\n",
       "      <td>39.729589</td>\n",
       "      <td>6</td>\n",
       "      <td>622</td>\n",
       "    </tr>\n",
       "    <tr>\n",
       "      <th>1</th>\n",
       "      <td>white-collar-crime</td>\n",
       "      <td>-104.700902</td>\n",
       "      <td>39.836771</td>\n",
       "      <td>7</td>\n",
       "      <td>759</td>\n",
       "    </tr>\n",
       "    <tr>\n",
       "      <th>2</th>\n",
       "      <td>robbery</td>\n",
       "      <td>-0.000002</td>\n",
       "      <td>0.000001</td>\n",
       "      <td>7</td>\n",
       "      <td>759</td>\n",
       "    </tr>\n",
       "  </tbody>\n",
       "</table>\n",
       "</div>"
      ],
      "text/plain": [
       "  OFFENSE_CATEGORY_ID     GEO_LON    GEO_LAT  DISTRICT_ID  PRECINCT_ID\n",
       "0  white-collar-crime -104.960521  39.729589            6          622\n",
       "1  white-collar-crime -104.700902  39.836771            7          759\n",
       "2             robbery   -0.000002   0.000001            7          759"
      ]
     },
     "execution_count": 19,
     "metadata": {},
     "output_type": "execute_result"
    }
   ],
   "source": [
    "# pull row from original data set where lat/lon match the lat/lon of each row of representative points\n",
    "# that way we get the full details like city, country, and date from the original dataframe\n",
    "rs = rep_points.apply(lambda row: df1[(df1['GEO_LAT']==row['GEO_LAT']) & (df1['GEO_LON']==row['GEO_LON'])].iloc[0], axis=1)\n",
    "rs.to_csv(r'C:/workfiles/denver-crime-data/1RN_crime.csv')\n",
    "rs.tail()"
   ]
  },
  {
   "cell_type": "code",
   "execution_count": 25,
   "metadata": {},
   "outputs": [
    {
     "data": {
      "image/png": "[encoded data removed]",
      "text/plain": [
       "<matplotlib.figure.Figure at 0x6c53b0>"
      ]
     },
     "metadata": {},
     "output_type": "display_data"
    }
   ],
   "source": [
    "# plot the final reduced set of coordinate points vs the original full set\n",
    "fig, ax = plt.subplots(figsize=[10, 6])\n",
    "rs_scatter = ax.scatter(rs['GEO_LAT'], rs['GEO_LON'], c='#99cc99', edgecolor='None', alpha=0.7, s=10000)\n",
    "df_scatter = ax.scatter(df1['GEO_LAT'], df1['GEO_LON'], c='k', alpha=0.9, s=3)\n",
    "ax.set_title('Full data set vs DBSCAN reduced set')\n",
    "ax.set_xlabel('Latitude')\n",
    "ax.set_ylabel('Longitude')\n",
    "ax.legend([df_scatter, rs_scatter], ['Full set', 'Reduced set'], loc='upper right')\n",
    "plt.show()"
   ]
  },
  {
   "cell_type": "code",
   "execution_count": 21,
   "metadata": {},
   "outputs": [
    {
     "data": {
      "text/html": [
       "<div>\n",
       "<style scoped>\n",
       "    .dataframe tbody tr th:only-of-type {\n",
       "        vertical-align: middle;\n",
       "    }\n",
       "\n",
       "    .dataframe tbody tr th {\n",
       "        vertical-align: top;\n",
       "    }\n",
       "\n",
       "    .dataframe thead th {\n",
       "        text-align: right;\n",
       "    }\n",
       "</style>\n",
       "<table border=\"1\" class=\"dataframe\">\n",
       "  <thead>\n",
       "    <tr style=\"text-align: right;\">\n",
       "      <th></th>\n",
       "      <th>GEO_LON</th>\n",
       "      <th>GEO_LAT</th>\n",
       "      <th>DISTRICT_ID</th>\n",
       "      <th>PRECINCT_ID</th>\n",
       "    </tr>\n",
       "  </thead>\n",
       "  <tbody>\n",
       "    <tr>\n",
       "      <th>count</th>\n",
       "      <td>12876.000000</td>\n",
       "      <td>12876.000000</td>\n",
       "      <td>12876.000000</td>\n",
       "      <td>12876.000000</td>\n",
       "    </tr>\n",
       "    <tr>\n",
       "      <th>mean</th>\n",
       "      <td>-104.912520</td>\n",
       "      <td>39.717576</td>\n",
       "      <td>3.672802</td>\n",
       "      <td>385.900746</td>\n",
       "    </tr>\n",
       "    <tr>\n",
       "      <th>std</th>\n",
       "      <td>2.069403</td>\n",
       "      <td>0.784019</td>\n",
       "      <td>1.784257</td>\n",
       "      <td>180.966852</td>\n",
       "    </tr>\n",
       "    <tr>\n",
       "      <th>min</th>\n",
       "      <td>-105.109336</td>\n",
       "      <td>0.000001</td>\n",
       "      <td>1.000000</td>\n",
       "      <td>111.000000</td>\n",
       "    </tr>\n",
       "    <tr>\n",
       "      <th>25%</th>\n",
       "      <td>-105.004613</td>\n",
       "      <td>39.703757</td>\n",
       "      <td>2.000000</td>\n",
       "      <td>222.000000</td>\n",
       "    </tr>\n",
       "    <tr>\n",
       "      <th>50%</th>\n",
       "      <td>-104.977538</td>\n",
       "      <td>39.739881</td>\n",
       "      <td>3.000000</td>\n",
       "      <td>324.000000</td>\n",
       "    </tr>\n",
       "    <tr>\n",
       "      <th>75%</th>\n",
       "      <td>-104.910224</td>\n",
       "      <td>39.758633</td>\n",
       "      <td>5.000000</td>\n",
       "      <td>523.000000</td>\n",
       "    </tr>\n",
       "    <tr>\n",
       "      <th>max</th>\n",
       "      <td>-0.000002</td>\n",
       "      <td>39.874789</td>\n",
       "      <td>7.000000</td>\n",
       "      <td>759.000000</td>\n",
       "    </tr>\n",
       "  </tbody>\n",
       "</table>\n",
       "</div>"
      ],
      "text/plain": [
       "            GEO_LON       GEO_LAT   DISTRICT_ID   PRECINCT_ID\n",
       "count  12876.000000  12876.000000  12876.000000  12876.000000\n",
       "mean    -104.912520     39.717576      3.672802    385.900746\n",
       "std        2.069403      0.784019      1.784257    180.966852\n",
       "min     -105.109336      0.000001      1.000000    111.000000\n",
       "25%     -105.004613     39.703757      2.000000    222.000000\n",
       "50%     -104.977538     39.739881      3.000000    324.000000\n",
       "75%     -104.910224     39.758633      5.000000    523.000000\n",
       "max       -0.000002     39.874789      7.000000    759.000000"
      ]
     },
     "execution_count": 21,
     "metadata": {},
     "output_type": "execute_result"
    }
   ],
   "source": [
    "df1.describe()"
   ]
  },
  {
   "cell_type": "code",
   "execution_count": null,
   "metadata": {},
   "outputs": [],
   "source": []
  },
  {
   "cell_type": "code",
   "execution_count": null,
   "metadata": {},
   "outputs": [],
   "source": []
  }
 ],
 "metadata": {
  "kernelspec": {
   "display_name": "Python 3",
   "language": "python",
   "name": "python3"
  },
  "language_info": {
   "codemirror_mode": {
    "name": "ipython",
    "version": 3
   },
   "file_extension": ".py",
   "mimetype": "text/x-python",
   "name": "python",
   "nbconvert_exporter": "python",
   "pygments_lexer": "ipython3",
   "version": "3.6.1"
  }
 },
 "nbformat": 4,
 "nbformat_minor": 2
}
